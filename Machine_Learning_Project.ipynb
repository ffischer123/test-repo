{
 "cells": [
  {
   "cell_type": "code",
   "execution_count": null,
   "id": "ddd08667-aa46-4b1d-b324-f7d96f013d8c",
   "metadata": {},
   "outputs": [],
   "source": [
    "#Pulling a dataset from a csv file on a local drive\n",
    "#The data records the energy output of a power plant given temperatures and other features\n",
    "\n",
    "!pip install pandas --quiet\n",
    "import pandas as pd\n",
    "file_path = 'insert filepath here'\n",
    "\n",
    "#Reading the data into a dataframe\n",
    "powerplant_df = pd.read_csv('insert filepath here')\n",
    "powerplant_df"
   ]
  },
  {
   "cell_type": "code",
   "execution_count": null,
   "id": "abb78feb-9e07-483c-a347-b9c2a9f033e6",
   "metadata": {},
   "outputs": [],
   "source": [
    "#Reviewing the data types\n",
    "powerplant_df.info()"
   ]
  },
  {
   "cell_type": "code",
   "execution_count": null,
   "id": "c10b5197-b2dc-4138-85bb-f99f252ac569",
   "metadata": {},
   "outputs": [],
   "source": [
    "#Reviewing the data stylized facts\n",
    "powerplant_df.describe()"
   ]
  },
  {
   "cell_type": "code",
   "execution_count": null,
   "id": "a7429532-b900-4899-9970-3d456b311b9c",
   "metadata": {},
   "outputs": [],
   "source": [
    "#Importing graphics libraries\n",
    "!pip install plotly matplotlib seaborn --quiet\n",
    "import plotly.express as px\n",
    "import matplotlib\n",
    "import matplotlib.pyplot as plt\n",
    "import seaborn as sns\n",
    "%matplotlib inline\n",
    "\n",
    "sns.set_style('darkgrid')\n",
    "matplotlib.rcParams['font.size'] = 14\n",
    "matplotlib.rcParams['figure.figsize'] = (10, 6)\n",
    "matplotlib.rcParams['figure.facecolor'] = '#00000000'\n"
   ]
  },
  {
   "cell_type": "code",
   "execution_count": null,
   "id": "24b33f19-10f4-46d2-bf5c-200cce087b23",
   "metadata": {},
   "outputs": [],
   "source": [
    "#Histogram for Average Temperatures\n",
    "powerplant_df.AT.describe()\n",
    "fig = px.histogram(powerplant_df,\n",
    "                   x='AT',\n",
    "                   marginal='box',\n",
    "                   color_discrete_sequence=['red'],\n",
    "                   title='Distribution of Average Temperature')\n",
    "fig.update_layout(bargap=0.1)\n",
    "fig.show()\n",
    "\n",
    "                    "
   ]
  },
  {
   "cell_type": "code",
   "execution_count": null,
   "id": "14dd8163-eff3-49ac-bd86-16d148418cae",
   "metadata": {},
   "outputs": [],
   "source": [
    "#Histogram for Vacuum values\n",
    "powerplant_df.V.describe()\n",
    "fig = px.histogram(powerplant_df,\n",
    "                   x='V',\n",
    "                   marginal='box',\n",
    "                   color_discrete_sequence=['green'],\n",
    "                   title='Distribution of Vacuum')\n",
    "fig.update_layout(bargap=0.1)\n",
    "fig.show()"
   ]
  },
  {
   "cell_type": "code",
   "execution_count": null,
   "id": "f896ae37-68c9-4187-a136-108b42fab8e0",
   "metadata": {},
   "outputs": [],
   "source": [
    "#Histogram for Ambient Pressure values\n",
    "powerplant_df.AP.describe()\n",
    "fig = px.histogram(powerplant_df,\n",
    "                   x='AP',\n",
    "                   marginal='box',\n",
    "                   color_discrete_sequence=['blue'],\n",
    "                   title='Distribution of Ambient Pressure')\n",
    "fig.update_layout(bargap=0.1)\n",
    "fig.show()"
   ]
  },
  {
   "cell_type": "code",
   "execution_count": null,
   "id": "42f9073c-320f-4234-ba70-7415f013c6ea",
   "metadata": {},
   "outputs": [],
   "source": [
    "#Histogram for Relative Humidity values\n",
    "powerplant_df.RH.describe()\n",
    "fig = px.histogram(powerplant_df,\n",
    "                   x='RH',\n",
    "                   marginal='box',\n",
    "                   color_discrete_sequence=['purple'],\n",
    "                   title='Distribution of Relative Humidity')\n",
    "fig.update_layout(bargap=0.1)\n",
    "fig.show()"
   ]
  },
  {
   "cell_type": "code",
   "execution_count": null,
   "id": "2f281f15-53a3-4222-b20a-9d2375d8e815",
   "metadata": {},
   "outputs": [],
   "source": [
    "#Histogram for Energy Output values\n",
    "powerplant_df.PE.describe()\n",
    "fig = px.histogram(powerplant_df,\n",
    "                   x='PE',\n",
    "                   marginal='box',\n",
    "                   color_discrete_sequence=['orange'],\n",
    "                   title='Distribution of Net Hourly Electrical Output')\n",
    "fig.update_layout(bargap=0.1)\n",
    "fig.show()"
   ]
  },
  {
   "cell_type": "code",
   "execution_count": null,
   "id": "eba63752-4b3d-407f-959b-d33ab7021581",
   "metadata": {},
   "outputs": [],
   "source": [
    "#Scatterplot Energy Output vs Average Temperatures\n",
    "fig = px.scatter(powerplant_df,\n",
    "                   x='PE',\n",
    "                   y='AT',\n",
    "                   opacity=0.8,\n",
    "                   hover_data=['RH'],\n",
    "                   title='Energy Output vs Temperature')\n",
    "fig.update_traces(marker_size=5)\n",
    "fig.show()"
   ]
  },
  {
   "cell_type": "code",
   "execution_count": null,
   "id": "7445274d-36e2-42e7-b471-190d47551988",
   "metadata": {},
   "outputs": [],
   "source": [
    "#Scatterplot Energy Output vs Vacuum\n",
    "fig = px.scatter(powerplant_df,\n",
    "                   x='PE',\n",
    "                   y='V',\n",
    "                   opacity=0.8,\n",
    "                   hover_data=['RH'],\n",
    "                   title='Energy Output vs Vaccum')\n",
    "fig.update_traces(marker_size=5)\n",
    "fig.show()"
   ]
  },
  {
   "cell_type": "code",
   "execution_count": null,
   "id": "20f89ab6-75ac-4bb7-b763-f7d327a65438",
   "metadata": {},
   "outputs": [],
   "source": [
    "#Scatterplot Energy Output vs Humidity\n",
    "fig = px.scatter(powerplant_df,\n",
    "                   x='PE',\n",
    "                   y='RH',\n",
    "                   opacity=0.8,\n",
    "                   hover_data=['V'],\n",
    "                   title='Energy Output vs Humidity')\n",
    "fig.update_traces(marker_size=5)\n",
    "fig.show()"
   ]
  },
  {
   "cell_type": "code",
   "execution_count": null,
   "id": "bcfefc31-f153-45b0-bce4-430d6ff4dba8",
   "metadata": {},
   "outputs": [],
   "source": [
    "#Scatterplot Humidity vs Average Temperatures\n",
    "fig = px.scatter(powerplant_df,\n",
    "                   x='RH',\n",
    "                   y='AT',\n",
    "                   opacity=0.8,\n",
    "                   hover_data=['V'],\n",
    "                   title='Humidity vs Temperature')\n",
    "fig.update_traces(marker_size=5)\n",
    "fig.show()"
   ]
  },
  {
   "cell_type": "code",
   "execution_count": null,
   "id": "4ff7932a-2a4e-4df7-b728-686a327a063c",
   "metadata": {},
   "outputs": [],
   "source": [
    "#Reviewing correlations\n",
    "powerplant_df.PE.corr(powerplant_df.AT)\n"
   ]
  },
  {
   "cell_type": "code",
   "execution_count": null,
   "id": "75ce2f95-a083-46f7-bcc5-0105d66121ea",
   "metadata": {},
   "outputs": [],
   "source": [
    "powerplant_df.PE.corr(powerplant_df.V)\n"
   ]
  },
  {
   "cell_type": "code",
   "execution_count": null,
   "id": "b272ebc1-77fc-4f7f-b336-a856b758e985",
   "metadata": {},
   "outputs": [],
   "source": [
    "powerplant_df.corr()\n"
   ]
  },
  {
   "cell_type": "code",
   "execution_count": null,
   "id": "de12035d-c8a6-4c72-9be6-710c069f23f9",
   "metadata": {},
   "outputs": [],
   "source": [
    "#Summary heatmap of correlations in matrix\n",
    "sns.heatmap(powerplant_df.corr(), cmap='Reds', annot=True)\n",
    "plt.title('Correlation Matrix');"
   ]
  },
  {
   "cell_type": "code",
   "execution_count": null,
   "id": "798593b0-b60a-4606-b41f-c4a6d83e9545",
   "metadata": {},
   "outputs": [],
   "source": [
    "#Approximating a linear model btw AT and PE manually (based on above scatterplot)\n",
    "ATs = powerplant_df.AT\n",
    "\n",
    "def estimate_output(AT, w, b):\n",
    "    return w*AT + b\n",
    "\n",
    "w = -2.5\n",
    "b = 505\n",
    "\n",
    "estimated_output = estimate_output(ATs, w, b)\n",
    "\n",
    "plt.plot(estimated_output, ATs, 'r-o');\n",
    "plt.xlabel('Estimated Output');\n",
    "plt.ylabel('Temperature');\n"
   ]
  },
  {
   "cell_type": "code",
   "execution_count": null,
   "id": "b7530441-3e8e-47cd-938d-ba2e966b71bd",
   "metadata": {},
   "outputs": [],
   "source": [
    "#Generate estimated values based on manual model\n",
    "estimate_output(30, w, b)"
   ]
  },
  {
   "cell_type": "code",
   "execution_count": null,
   "id": "2bb635a8-d726-4207-b006-171138228a69",
   "metadata": {},
   "outputs": [],
   "source": [
    "estimated_output"
   ]
  },
  {
   "cell_type": "code",
   "execution_count": null,
   "id": "dc7eb6f2-803a-42b6-a66f-4cd3cd12528c",
   "metadata": {},
   "outputs": [],
   "source": [
    "#Plot manual model against the data\n",
    "target = powerplant_df.PE\n",
    "\n",
    "plt.plot(estimated_output, ATs, 'r', alpha=0.9);\n",
    "plt.scatter(target, ATs, s=8, alpha=0.8);\n",
    "plt.xlabel('Energy Output');\n",
    "plt.ylabel('Temperature');\n",
    "plt.legend(['Estimate', 'Actual']);\n"
   ]
  },
  {
   "cell_type": "code",
   "execution_count": null,
   "id": "7e0a4134-d239-4630-be79-efb7ec0e1ee5",
   "metadata": {},
   "outputs": [],
   "source": [
    "# Review fit manually\n",
    "targets = powerplant_df.PE\n",
    "predictions = estimated_output\n",
    "predictions"
   ]
  },
  {
   "cell_type": "code",
   "execution_count": null,
   "id": "6ad0aaa4-512f-418c-960a-c82b9ee17334",
   "metadata": {},
   "outputs": [],
   "source": [
    "targets\n"
   ]
  },
  {
   "cell_type": "code",
   "execution_count": null,
   "id": "06460d01-aaa1-4635-9f15-43f4c55cb046",
   "metadata": {},
   "outputs": [],
   "source": [
    "#Install numpy and calculate RMSE\n",
    "\n",
    "!pip install numpy ==quiet\n",
    "import numpy as np\n",
    "def rmse(targets, predictions):\n",
    "    return np.sqrt(np.mean(np.square(targets - predictions)))\n",
    "\n",
    "rmse(targets, predictions)"
   ]
  },
  {
   "cell_type": "code",
   "execution_count": null,
   "id": "2cc59af4-5d7f-45b5-818e-48bdb003c7ca",
   "metadata": {},
   "outputs": [],
   "source": [
    "#Install scikit-learn and fit linear regression with AT as only variable for ALL data\n",
    "\n",
    "!pip install scikit-learn --quiet\n",
    "from sklearn.linear_model import LinearRegression\n",
    "\n",
    "model = LinearRegression()\n",
    "\n",
    "help(model.fit)\n",
    "\n",
    "inputs = powerplant_df[['AT']]\n",
    "targets = powerplant_df.PE\n",
    "print('inputs_shape: ', inputs.shape);\n",
    "print('targets_shape: ', targets.shape);\n"
   ]
  },
  {
   "cell_type": "code",
   "execution_count": null,
   "id": "0215fd80-f7c3-475d-ad91-2e23faf6ef6a",
   "metadata": {},
   "outputs": [],
   "source": [
    "\n",
    "type(inputs)"
   ]
  },
  {
   "cell_type": "code",
   "execution_count": null,
   "id": "e0038048-281e-436e-aaf0-1f31fe5119ee",
   "metadata": {},
   "outputs": [],
   "source": [
    "model.fit(inputs, targets)\n"
   ]
  },
  {
   "cell_type": "code",
   "execution_count": null,
   "id": "83adb3d1-6cc0-40e1-a13b-ceaa75178c36",
   "metadata": {},
   "outputs": [],
   "source": [
    "model.predict(np.array([[30],\n",
    "                        [20],\n",
    "                        [10]]))"
   ]
  },
  {
   "cell_type": "code",
   "execution_count": null,
   "id": "2e767ea5-c921-4665-af17-e7a5935e1b7b",
   "metadata": {},
   "outputs": [],
   "source": [
    "predictions = model.predict(inputs)\n",
    "predictions"
   ]
  },
  {
   "cell_type": "code",
   "execution_count": null,
   "id": "f13d6ba2-eb8e-4919-95e2-fe43504b3089",
   "metadata": {},
   "outputs": [],
   "source": [
    "inputs"
   ]
  },
  {
   "cell_type": "code",
   "execution_count": null,
   "id": "169147f3-e345-4a1d-8e7d-8f7a80fc084e",
   "metadata": {},
   "outputs": [],
   "source": [
    "targets\n"
   ]
  },
  {
   "cell_type": "code",
   "execution_count": null,
   "id": "67dc7b56-d313-4feb-ba6c-f2f6bf2741fb",
   "metadata": {},
   "outputs": [],
   "source": [
    "rmse(targets, predictions)"
   ]
  },
  {
   "cell_type": "code",
   "execution_count": null,
   "id": "214596f0-f488-48f6-b8b6-60074d0149f3",
   "metadata": {},
   "outputs": [],
   "source": [
    "#w\n",
    "model.coef_\n",
    "\n",
    "\n",
    "\n"
   ]
  },
  {
   "cell_type": "code",
   "execution_count": null,
   "id": "25738cb3-7976-4001-9764-f62066fa9667",
   "metadata": {},
   "outputs": [],
   "source": [
    "#b\n",
    "model.intercept_"
   ]
  },
  {
   "cell_type": "code",
   "execution_count": null,
   "id": "8d415076-a43d-466f-aafa-3fb4bbbc3f43",
   "metadata": {},
   "outputs": [],
   "source": [
    "#Use all variables to explain dependent variable with linear regression\n",
    "model = LinearRegression()\n",
    "\n",
    "help(model.fit)\n",
    "\n",
    "inputs = powerplant_df[['AT','RH','V', 'AP']]\n",
    "targets = powerplant_df.PE\n",
    "print('inputs_shape: ', inputs.shape);\n",
    "print('targets_shape: ', targets.shape);"
   ]
  },
  {
   "cell_type": "code",
   "execution_count": null,
   "id": "3bf8b693-9591-47be-8a13-5935877de8ca",
   "metadata": {},
   "outputs": [],
   "source": [
    "model.fit(inputs, targets)\n"
   ]
  },
  {
   "cell_type": "code",
   "execution_count": null,
   "id": "7389c6c4-76a5-4960-9d7e-f886adf0a3d2",
   "metadata": {},
   "outputs": [],
   "source": [
    "predictions = model.predict(inputs)\n",
    "\n",
    "rmse(targets, predictions)"
   ]
  },
  {
   "cell_type": "code",
   "execution_count": null,
   "id": "a65a8711-ff5b-4590-978a-818c083b8d52",
   "metadata": {},
   "outputs": [],
   "source": [
    "#w\n",
    "model.coef_"
   ]
  },
  {
   "cell_type": "code",
   "execution_count": null,
   "id": "be8c0ef8-80a7-4e12-b7ca-7276b20e3417",
   "metadata": {},
   "outputs": [],
   "source": [
    "#b\n",
    "model.intercept_"
   ]
  },
  {
   "cell_type": "code",
   "execution_count": null,
   "id": "e6d8498e-d9af-4360-ae8f-85aa62a95f4b",
   "metadata": {},
   "outputs": [],
   "source": [
    "#Use train_test_split to only use 80% of data to determine realistic preditability\n",
    "\n",
    "X = powerplant_df[['AT', 'V', 'RH', 'AP']]\n",
    "y = powerplant_df['PE']\n",
    "\n",
    "from sklearn.model_selection import train_test_split\n",
    "\n",
    "X_train, X_test, y_train, y_test = train_test_split(X,y,test_size=0.2, random_state=10)\n",
    "\n",
    "len(X_train)"
   ]
  },
  {
   "cell_type": "code",
   "execution_count": null,
   "id": "063db55c-9917-4a2b-a479-737eeee862b6",
   "metadata": {},
   "outputs": [],
   "source": [
    "model_2 = LinearRegression()\n",
    "\n",
    "help(model_2.fit)\n",
    "\n",
    "inputs_2 = X_train\n",
    "targets_2 = y_train\n",
    "print('inputs_2shape: ', inputs_2.shape);\n",
    "print('targets_2shape: ', targets_2.shape);"
   ]
  },
  {
   "cell_type": "code",
   "execution_count": null,
   "id": "0ac90634-4f19-47ca-80ce-488fd042b5b5",
   "metadata": {},
   "outputs": [],
   "source": [
    "model_2.fit(inputs_2, targets_2)"
   ]
  },
  {
   "cell_type": "code",
   "execution_count": null,
   "id": "b61fd406-03b2-4d77-aafd-e9dd4634ec0c",
   "metadata": {},
   "outputs": [],
   "source": [
    "predictions_2 = model_2.predict(inputs_2)\n",
    "\n",
    "rmse(targets_2, predictions_2)"
   ]
  },
  {
   "cell_type": "code",
   "execution_count": null,
   "id": "3f29db2f-c5e3-4b92-b099-e56dd134fe1c",
   "metadata": {},
   "outputs": [],
   "source": [
    "model_2.predict(inputs_2)\n"
   ]
  },
  {
   "cell_type": "code",
   "execution_count": null,
   "id": "a5259d50-ad56-43f2-826b-7642eec0646e",
   "metadata": {},
   "outputs": [],
   "source": [
    "inputs_3 = X_test\n",
    "targets_3 = y_test\n",
    "\n",
    "predictions_3 = model_2.predict(inputs_3)\n",
    "mean_absolute_error(predictions_3, targets_3)\n"
   ]
  },
  {
   "cell_type": "code",
   "execution_count": null,
   "id": "7ca3395b-0020-4e6e-a0e5-c56e3f2e2d24",
   "metadata": {},
   "outputs": [],
   "source": [
    "model_2.score(x_test, y_test)"
   ]
  },
  {
   "cell_type": "code",
   "execution_count": null,
   "id": "2292447a-9bfd-4044-b5d9-3788dcf70f6b",
   "metadata": {},
   "outputs": [],
   "source": [
    "r2_score(predictions_3, targets_3)"
   ]
  },
  {
   "cell_type": "code",
   "execution_count": null,
   "id": "a27fb89d-a03f-4e7d-82b2-7d291cfd0157",
   "metadata": {},
   "outputs": [],
   "source": [
    "#Comparing linear regressions using MSE: 80% of the data vs ALL training data\n",
    "\n",
    "from sklearn.metrics import mean_squared_error\n",
    "\n",
    "mse_2 = mean_squared_error(targets_2, predictions_2)\n",
    "print(\"Mean Squared Error 2:\", mse_2)"
   ]
  },
  {
   "cell_type": "code",
   "execution_count": null,
   "id": "fda7118f-e9e0-4078-9564-8d8d98fd6855",
   "metadata": {},
   "outputs": [],
   "source": [
    "mse = mean_squared_error(targets, predictions)\n",
    "print(\"Mean Squared Error:\", mse)"
   ]
  },
  {
   "cell_type": "code",
   "execution_count": null,
   "id": "ab2d0872-c894-4d06-a64b-ee648445262b",
   "metadata": {},
   "outputs": [],
   "source": [
    "powerdata = powerplant_df"
   ]
  },
  {
   "cell_type": "code",
   "execution_count": null,
   "id": "1a05641b-2c7f-4b5b-bf42-801f580423e0",
   "metadata": {},
   "outputs": [],
   "source": [
    "powerdata.head(10)"
   ]
  },
  {
   "cell_type": "code",
   "execution_count": null,
   "id": "96c1ff84-3c24-469a-9e17-b9294001837e",
   "metadata": {},
   "outputs": [],
   "source": [
    "#Set up data for Random Forest Regression\n",
    "\n",
    "X = powerdata.drop(['PE'], axis=1)"
   ]
  },
  {
   "cell_type": "code",
   "execution_count": null,
   "id": "ded86602-9ae3-4d11-b47a-c3a7703bc528",
   "metadata": {},
   "outputs": [],
   "source": [
    "y = powerdata['PE']"
   ]
  },
  {
   "cell_type": "code",
   "execution_count": null,
   "id": "73b51d67-f306-40f3-9886-de4745d229ec",
   "metadata": {},
   "outputs": [],
   "source": [
    "X_train, X_test, y_train, y_test = train_test_split(X,y,test_size=0.2, random_state=19)"
   ]
  },
  {
   "cell_type": "code",
   "execution_count": null,
   "id": "b0e39f8c-a031-44cb-b496-fb6150387cab",
   "metadata": {},
   "outputs": [],
   "source": [
    "#Import and run the Random Forest package\n",
    "\n",
    "from sklearn.ensemble import RandomForestRegressor"
   ]
  },
  {
   "cell_type": "code",
   "execution_count": null,
   "id": "8222488b-db7c-4c1e-a633-6add6a895f17",
   "metadata": {},
   "outputs": [],
   "source": [
    "rfr = RandomForestRegressor(random_state=13)"
   ]
  },
  {
   "cell_type": "code",
   "execution_count": null,
   "id": "85de0fdc-8c5e-4395-ae76-4f8f55c62514",
   "metadata": {},
   "outputs": [],
   "source": [
    "rfr.fit(X_train, y_train)"
   ]
  },
  {
   "cell_type": "code",
   "execution_count": null,
   "id": "553cbfe3-5604-435b-8b41-5ec07f958697",
   "metadata": {},
   "outputs": [],
   "source": [
    "y_predictions = rfr.predict(X_test)"
   ]
  },
  {
   "cell_type": "code",
   "execution_count": null,
   "id": "764e25f0-5cfd-48a1-9641-7e2d08fe921a",
   "metadata": {},
   "outputs": [],
   "source": [
    "#Import metrics and run MSE to compare to Linear Regression\n",
    "\n",
    "from sklearn.metrics import mean_absolute_error, r2_score"
   ]
  },
  {
   "cell_type": "code",
   "execution_count": null,
   "id": "ac1705c0-5866-4e30-80bf-0be1402b2a89",
   "metadata": {},
   "outputs": [],
   "source": [
    "mean_absolute_error(y_predictions, y_test)\n",
    "\n"
   ]
  },
  {
   "cell_type": "code",
   "execution_count": null,
   "id": "e408bc4a-e8df-4b32-a4db-290afb998368",
   "metadata": {},
   "outputs": [],
   "source": [
    "mean_squared_error(y_predictions, y_test)\n",
    "#MSE is lower for Random Forest than for Linear Regression as expected"
   ]
  },
  {
   "cell_type": "code",
   "execution_count": null,
   "id": "09a37142-022d-4d53-8118-b6178f64bde3",
   "metadata": {},
   "outputs": [],
   "source": [
    "r2_score(y_predictions, y_test)\n",
    "#As compared to the Linear Regression score of 93%, r2 for Random Forest is 95%"
   ]
  },
  {
   "cell_type": "code",
   "execution_count": null,
   "id": "e7dde110-5e00-40a3-a922-a227158af984",
   "metadata": {},
   "outputs": [],
   "source": [
    "#The r2 score for the Random Forest Regression is 0.025 higher than for the Linear Regression.\n",
    "\n",
    "#In both cases, the evaluation is made on test data, not the training data set.\n"
   ]
  }
 ],
 "metadata": {
  "kernelspec": {
   "display_name": "Python 3 (ipykernel)",
   "language": "python",
   "name": "python3"
  },
  "language_info": {
   "codemirror_mode": {
    "name": "ipython",
    "version": 3
   },
   "file_extension": ".py",
   "mimetype": "text/x-python",
   "name": "python",
   "nbconvert_exporter": "python",
   "pygments_lexer": "ipython3",
   "version": "3.13.0"
  }
 },
 "nbformat": 4,
 "nbformat_minor": 5
}
